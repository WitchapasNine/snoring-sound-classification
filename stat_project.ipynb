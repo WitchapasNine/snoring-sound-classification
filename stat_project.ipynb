{
  "nbformat": 4,
  "nbformat_minor": 0,
  "metadata": {
    "colab": {
      "provenance": [],
      "gpuType": "T4"
    },
    "kernelspec": {
      "name": "python3",
      "display_name": "Python 3"
    },
    "language_info": {
      "name": "python"
    },
    "accelerator": "GPU"
  },
  "cells": [
    {
      "cell_type": "markdown",
      "source": [
        "# 1. Install libraries"
      ],
      "metadata": {
        "id": "jrD_-9kNFtCr"
      }
    },
    {
      "cell_type": "code",
      "source": [
        "!pip install --quiet librosa scikit-learn statsmodels tqdm"
      ],
      "metadata": {
        "id": "TwzEhC3hEVTw"
      },
      "execution_count": null,
      "outputs": []
    },
    {
      "cell_type": "code",
      "source": [
        "from google.colab import drive\n",
        "import pathlib, os, librosa, numpy as np, pandas as pd, tqdm\n",
        "import matplotlib.pyplot as plt\n",
        "from sklearn.model_selection import StratifiedKFold, GridSearchCV, train_test_split\n",
        "from sklearn.pipeline import make_pipeline\n",
        "from sklearn.preprocessing import StandardScaler\n",
        "from sklearn.linear_model import LogisticRegression\n",
        "from sklearn.neighbors import KNeighborsClassifier\n",
        "from sklearn.svm import SVC\n",
        "from sklearn.metrics import confusion_matrix, roc_auc_score, RocCurveDisplay\n",
        "from statsmodels.stats.contingency_tables import mcnemar"
      ],
      "metadata": {
        "id": "fGz8Rk_nE447"
      },
      "execution_count": null,
      "outputs": []
    },
    {
      "cell_type": "markdown",
      "source": [
        "# 2. Mount to drive"
      ],
      "metadata": {
        "id": "DW5ovhQyF0fz"
      }
    },
    {
      "cell_type": "code",
      "source": [
        "drive.mount('/content/drive')"
      ],
      "metadata": {
        "colab": {
          "base_uri": "https://localhost:8080/"
        },
        "id": "nBbG_b_S8bxn",
        "outputId": "9b649cc4-4f27-4ab9-d7ce-94e817754063"
      },
      "execution_count": null,
      "outputs": [
        {
          "output_type": "stream",
          "name": "stdout",
          "text": [
            "Mounted at /content/drive\n"
          ]
        }
      ]
    },
    {
      "cell_type": "markdown",
      "source": [
        "# 3. Point to dataset"
      ],
      "metadata": {
        "id": "nKhD3PitF6qA"
      }
    },
    {
      "cell_type": "code",
      "source": [
        "root = pathlib.Path('/content/drive/MyDrive/Snoring Dataset/')\n",
        "\n",
        "print('Snore files   :', len(list((root/'1').glob('*.wav'))))\n",
        "print('Non‑snore files:', len(list((root/'0').glob('*.wav'))))"
      ],
      "metadata": {
        "id": "C2B054sED6ks",
        "colab": {
          "base_uri": "https://localhost:8080/"
        },
        "outputId": "490e8ca1-0b17-417e-e1a6-c36106551543"
      },
      "execution_count": null,
      "outputs": [
        {
          "output_type": "stream",
          "name": "stdout",
          "text": [
            "Snore files   : 501\n",
            "Non‑snore files: 500\n"
          ]
        }
      ]
    },
    {
      "cell_type": "markdown",
      "source": [
        "# 4. Extract 40‑D MFCC features  →  features.csv"
      ],
      "metadata": {
        "id": "YH1puvE_F_Pp"
      }
    },
    {
      "cell_type": "code",
      "source": [
        "def mfcc40(path, n_mfcc=20):\n",
        "    y, sr = librosa.load(path, sr=None)\n",
        "    m = librosa.feature.mfcc(y=y, sr=sr, n_mfcc=n_mfcc)\n",
        "    return np.hstack([m.mean(axis=1), m.std(axis=1)])\n",
        "\n",
        "records = []\n",
        "for label in ('0', '1'):                                           # 0 = non‑snore, 1 = snore\n",
        "    for wav in tqdm.tqdm((root/label).glob('*.wav')):\n",
        "        records.append(np.hstack([mfcc40(wav), int(label)]))\n",
        "\n",
        "df = pd.DataFrame(records, columns=[f'f{i}' for i in range(1,41)] + ['label'])\n",
        "df.to_csv('features.csv', index=False)\n",
        "print('Saved  features.csv   →', df.shape)"
      ],
      "metadata": {
        "id": "M-vzxzH-7-rh",
        "colab": {
          "base_uri": "https://localhost:8080/"
        },
        "outputId": "d4d83b77-3edf-4efe-ca35-d8f37c456155"
      },
      "execution_count": null,
      "outputs": [
        {
          "output_type": "stream",
          "name": "stderr",
          "text": [
            "500it [00:34, 14.70it/s]\n",
            "501it [00:16, 30.10it/s]\n"
          ]
        },
        {
          "output_type": "stream",
          "name": "stdout",
          "text": [
            "Saved  features.csv   → (1001, 41)\n"
          ]
        }
      ]
    },
    {
      "cell_type": "markdown",
      "source": [
        "# 5. Set up 5-fold stratified CV"
      ],
      "metadata": {
        "id": "Oac1iwzoGCxX"
      }
    },
    {
      "cell_type": "code",
      "source": [
        "X = df.iloc[:, :-1].values\n",
        "y = df['label'].values\n",
        "skf = StratifiedKFold(n_splits=5, shuffle=True, random_state=42)"
      ],
      "metadata": {
        "id": "uEFiSTIo8xh_"
      },
      "execution_count": null,
      "outputs": []
    },
    {
      "cell_type": "markdown",
      "source": [
        "# 6. Define tuned classifiers (LogReg, kNN, SVM)"
      ],
      "metadata": {
        "id": "FQo_D3V0GIoZ"
      }
    },
    {
      "cell_type": "markdown",
      "source": [],
      "metadata": {
        "id": "BS-c0L-YbdwA"
      }
    },
    {
      "cell_type": "code",
      "source": [
        "def tuned(model, grid):\n",
        "    return GridSearchCV(model, grid, cv=3, scoring='roc_auc', n_jobs=-1)\n",
        "\n",
        "models = {\n",
        "    'LogReg': tuned(LogisticRegression(max_iter=1000, solver='lbfgs'),\n",
        "                    {'C': [0.01, 0.1, 1, 10]}),\n",
        "    'kNN':    tuned(KNeighborsClassifier(),\n",
        "                    {'n_neighbors': [1, 3, 5, 7, 11]}),\n",
        "    'SVM':    tuned(SVC(kernel='rbf', probability=True),\n",
        "                    {'C': [0.1, 1, 10], 'gamma': ['scale', 'auto']})\n",
        "}"
      ],
      "metadata": {
        "id": "eXU1R0T29Jn6"
      },
      "execution_count": null,
      "outputs": []
    },
    {
      "cell_type": "markdown",
      "source": [
        "# 7. Run CV loop, collect confusion matrices & AUCs"
      ],
      "metadata": {
        "id": "uSxf8OlhGP3D"
      }
    },
    {
      "cell_type": "code",
      "source": [
        "results = {}\n",
        "for name, grid in models.items():\n",
        "    cms, aucs = [], []\n",
        "    for fold, (train_idx, test_idx) in enumerate(skf.split(X, y), 1):\n",
        "        pipe = make_pipeline(StandardScaler(), grid)\n",
        "        pipe.fit(X[train_idx], y[train_idx])\n",
        "        proba = pipe.predict_proba(X[test_idx])[:, 1]\n",
        "        pred  = (proba >= 0.5).astype(int)\n",
        "        cms.append(confusion_matrix(y[test_idx], pred))\n",
        "        aucs.append(roc_auc_score(y[test_idx], proba))\n",
        "        print(f'{name}  fold {fold}:  AUC = {aucs[-1]:.3f}')\n",
        "    results[name] = {\n",
        "        'conf': np.sum(cms, axis=0),\n",
        "        'auc_mean': np.mean(aucs),\n",
        "        'auc_se'  : np.std(aucs, ddof=1) / np.sqrt(len(aucs))\n",
        "    }"
      ],
      "metadata": {
        "colab": {
          "base_uri": "https://localhost:8080/"
        },
        "id": "5L8CEeDZFgGv",
        "outputId": "c0cdd076-671e-44b3-a880-38a1f681d0bd"
      },
      "execution_count": null,
      "outputs": [
        {
          "output_type": "stream",
          "name": "stdout",
          "text": [
            "LogReg  fold 1:  AUC = 0.973\n",
            "LogReg  fold 2:  AUC = 0.986\n",
            "LogReg  fold 3:  AUC = 0.995\n",
            "LogReg  fold 4:  AUC = 0.976\n",
            "LogReg  fold 5:  AUC = 0.987\n",
            "kNN  fold 1:  AUC = 1.000\n",
            "kNN  fold 2:  AUC = 1.000\n",
            "kNN  fold 3:  AUC = 0.994\n",
            "kNN  fold 4:  AUC = 0.992\n",
            "kNN  fold 5:  AUC = 0.999\n",
            "SVM  fold 1:  AUC = 1.000\n",
            "SVM  fold 2:  AUC = 1.000\n",
            "SVM  fold 3:  AUC = 1.000\n",
            "SVM  fold 4:  AUC = 0.999\n",
            "SVM  fold 5:  AUC = 1.000\n"
          ]
        }
      ]
    },
    {
      "cell_type": "markdown",
      "source": [
        "# 8. Display summary table\n"
      ],
      "metadata": {
        "id": "-yrH4i6WGXz6"
      }
    },
    {
      "cell_type": "code",
      "source": [
        "print('\\n=== 5‑fold performance ===')\n",
        "print('Model   Acc   Sens  Spec   AUC ± SE')\n",
        "for name, r in results.items():\n",
        "    tn, fp, fn, tp = r['conf'].ravel()\n",
        "    acc  = (tp + tn) / (tp + tn + fp + fn)\n",
        "    sens = tp / (tp + fn)\n",
        "    spec = tn / (tn + fp)\n",
        "    print(f'{name:6}  {acc:.3f}  {sens:.3f}  {spec:.3f}  {r[\"auc_mean\"]:.3f} ± {r[\"auc_se\"]:.3f}')"
      ],
      "metadata": {
        "colab": {
          "base_uri": "https://localhost:8080/"
        },
        "id": "L2XIo-DTFhXP",
        "outputId": "716ff354-bfc3-4780-bc44-d736b50c8945"
      },
      "execution_count": null,
      "outputs": [
        {
          "output_type": "stream",
          "name": "stdout",
          "text": [
            "\n",
            "=== 5‑fold performance ===\n",
            "Model   Acc   Sens  Spec   AUC ± SE\n",
            "LogReg  0.934  0.932  0.936  0.983 ± 0.004\n",
            "kNN     0.983  0.970  0.996  0.997 ± 0.002\n",
            "SVM     0.996  0.994  0.998  1.000 ± 0.000\n"
          ]
        }
      ]
    },
    {
      "cell_type": "markdown",
      "source": [
        "# 9. Plot ROC curve for the best model"
      ],
      "metadata": {
        "id": "2Q9yOcDcGdO5"
      }
    },
    {
      "cell_type": "code",
      "source": [
        "best = max(results, key=lambda n: results[n]['auc_mean'])\n",
        "print('\\nBest model =', best)\n",
        "\n",
        "X_tr, X_te, y_tr, y_te = train_test_split(\n",
        "    X, y, test_size=0.1, stratify=y, random_state=1\n",
        ")\n",
        "best_pipe = make_pipeline(StandardScaler(), models[best].estimator)\n",
        "best_pipe.fit(X_tr, y_tr)\n",
        "\n",
        "RocCurveDisplay.from_estimator(best_pipe, X_te, y_te)\n",
        "plt.title(f'ROC – {best}')\n",
        "plt.show()"
      ],
      "metadata": {
        "colab": {
          "base_uri": "https://localhost:8080/",
          "height": 508
        },
        "id": "KF3UON5sFitS",
        "outputId": "404fa28d-e5a3-4f81-c65a-0d4dde98318d"
      },
      "execution_count": null,
      "outputs": [
        {
          "output_type": "stream",
          "name": "stdout",
          "text": [
            "\n",
            "Best model = SVM\n"
          ]
        },
        {
          "output_type": "display_data",
          "data": {
            "text/plain": [
              "<Figure size 640x480 with 1 Axes>"
            ],
            "image/png": "[encoded data removed]"
          },
          "metadata": {}
        }
      ]
    },
    {
      "cell_type": "markdown",
      "source": [
        "# 10. Mcnemar significance test (compare SVM vs LogReg)"
      ],
      "metadata": {
        "id": "_tx08OaGGiGb"
      }
    },
    {
      "cell_type": "code",
      "source": [
        "pred_svm = make_pipeline(StandardScaler(), models['SVM'].estimator).fit(X_tr, y_tr).predict(X_te)\n",
        "pred_lr  = make_pipeline(StandardScaler(), models['LogReg'].estimator).fit(X_tr, y_tr).predict(X_te)\n",
        "\n",
        "tbl = confusion_matrix(pred_svm, pred_lr)\n",
        "print('\\nDisagreement table\\n', tbl)\n",
        "print(mcnemar(tbl, exact=False))"
      ],
      "metadata": {
        "colab": {
          "base_uri": "https://localhost:8080/"
        },
        "id": "PORxfAqgFj8-",
        "outputId": "67d55535-e748-4a1a-ff7d-cb96495a3144"
      },
      "execution_count": null,
      "outputs": [
        {
          "output_type": "stream",
          "name": "stdout",
          "text": [
            "\n",
            "Disagreement table\n",
            " [[49  1]\n",
            " [ 5 46]]\n",
            "pvalue      0.22067136191984324\n",
            "statistic   1.5\n"
          ]
        }
      ]
    },
    {
      "cell_type": "code",
      "source": [],
      "metadata": {
        "id": "NfaLA9X5FlSL"
      },
      "execution_count": null,
      "outputs": []
    }
  ]
}